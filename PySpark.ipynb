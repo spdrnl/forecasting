{
 "cells": [
  {
   "cell_type": "code",
   "execution_count": 7,
   "id": "following-glance",
   "metadata": {},
   "outputs": [],
   "source": [
    "from pyspark.sql import SparkSession\n",
    "\n",
    "spark = SparkSession \\\n",
    "    .builder \\\n",
    "    .appName(\"Python Spark SQL basic example\") \\\n",
    "    .config(\"spark.some.config.option\", \"some-value\") \\\n",
    "    .getOrCreate()"
   ]
  },
  {
   "cell_type": "code",
   "execution_count": 50,
   "id": "decent-silly",
   "metadata": {},
   "outputs": [
    {
     "name": "stdout",
     "output_type": "stream",
     "text": [
      "2017-09-13 00:00:00 , 80115\n",
      "2017-09-13 01:00:00 , 79885\n",
      "2017-09-13 02:00:00 , 89325\n",
      "2017-09-13 03:00:00 , 101930\n",
      "2017-09-13 04:00:00 , 121630\n",
      "2017-09-13 05:00:00 , 116475\n",
      "2017-09-13 06:00:00 , 106495\n",
      "2017-09-13 07:00:00 , 102795\n",
      "2017-09-13 08:00:00 , 108055\n",
      "2017-09-13 09:00:00 , 116125\n"
     ]
    }
   ],
   "source": [
    "! head ads.csv"
   ]
  },
  {
   "cell_type": "code",
   "execution_count": 51,
   "id": "attractive-vessel",
   "metadata": {},
   "outputs": [],
   "source": [
    "schema = \"dt timestamp, value float\"\n",
    "df = spark.read.schema(schema).csv('./ads.csv')\n",
    "df.createOrReplaceTempView(\"ads\")"
   ]
  },
  {
   "cell_type": "code",
   "execution_count": 76,
   "id": "noticed-federal",
   "metadata": {},
   "outputs": [],
   "source": [
    "df = spark.sql(\"SELECT first(date(dt)) as dt, avg(value) as mv FROM ads GROUP BY day(dt)\").toPandas()"
   ]
  },
  {
   "cell_type": "code",
   "execution_count": 79,
   "id": "vocal-costume",
   "metadata": {},
   "outputs": [],
   "source": [
    "#import pandas as pd\n",
    "df.dt = pd.to_datetime(df.dt)"
   ]
  },
  {
   "cell_type": "code",
   "execution_count": 80,
   "id": "quantitative-silly",
   "metadata": {},
   "outputs": [
    {
     "data": {
      "text/plain": [
       "dt    datetime64[ns]\n",
       "mv           float64\n",
       "dtype: object"
      ]
     },
     "execution_count": 80,
     "metadata": {},
     "output_type": "execute_result"
    }
   ],
   "source": [
    "df.dtypes"
   ]
  },
  {
   "cell_type": "code",
   "execution_count": 81,
   "id": "opposite-switzerland",
   "metadata": {},
   "outputs": [],
   "source": [
    "df = df.set_index('dt')"
   ]
  },
  {
   "cell_type": "code",
   "execution_count": 82,
   "id": "continental-fraction",
   "metadata": {},
   "outputs": [
    {
     "data": {
      "text/plain": [
       "<AxesSubplot:xlabel='dt'>"
      ]
     },
     "execution_count": 82,
     "metadata": {},
     "output_type": "execute_result"
    },
    {
     "data": {
      "image/png": "[encoded data removed]",
      "text/plain": [
       "<Figure size 432x288 with 1 Axes>"
      ]
     },
     "metadata": {
      "needs_background": "light"
     },
     "output_type": "display_data"
    }
   ],
   "source": [
    "df.mv.plot()"
   ]
  },
  {
   "cell_type": "code",
   "execution_count": 83,
   "id": "wrapped-belle",
   "metadata": {},
   "outputs": [
    {
     "data": {
      "text/html": [
       "<div>\n",
       "<style scoped>\n",
       "    .dataframe tbody tr th:only-of-type {\n",
       "        vertical-align: middle;\n",
       "    }\n",
       "\n",
       "    .dataframe tbody tr th {\n",
       "        vertical-align: top;\n",
       "    }\n",
       "\n",
       "    .dataframe thead th {\n",
       "        text-align: right;\n",
       "    }\n",
       "</style>\n",
       "<table border=\"1\" class=\"dataframe\">\n",
       "  <thead>\n",
       "    <tr style=\"text-align: right;\">\n",
       "      <th></th>\n",
       "      <th>mv</th>\n",
       "    </tr>\n",
       "  </thead>\n",
       "  <tbody>\n",
       "    <tr>\n",
       "      <th>count</th>\n",
       "      <td>9.000000</td>\n",
       "    </tr>\n",
       "    <tr>\n",
       "      <th>mean</th>\n",
       "      <td>121974.050926</td>\n",
       "    </tr>\n",
       "    <tr>\n",
       "      <th>std</th>\n",
       "      <td>6481.311273</td>\n",
       "    </tr>\n",
       "    <tr>\n",
       "      <th>min</th>\n",
       "      <td>115782.500000</td>\n",
       "    </tr>\n",
       "    <tr>\n",
       "      <th>25%</th>\n",
       "      <td>117927.291667</td>\n",
       "    </tr>\n",
       "    <tr>\n",
       "      <th>50%</th>\n",
       "      <td>120535.416667</td>\n",
       "    </tr>\n",
       "    <tr>\n",
       "      <th>75%</th>\n",
       "      <td>123368.333333</td>\n",
       "    </tr>\n",
       "    <tr>\n",
       "      <th>max</th>\n",
       "      <td>135468.750000</td>\n",
       "    </tr>\n",
       "  </tbody>\n",
       "</table>\n",
       "</div>"
      ],
      "text/plain": [
       "                  mv\n",
       "count       9.000000\n",
       "mean   121974.050926\n",
       "std      6481.311273\n",
       "min    115782.500000\n",
       "25%    117927.291667\n",
       "50%    120535.416667\n",
       "75%    123368.333333\n",
       "max    135468.750000"
      ]
     },
     "execution_count": 83,
     "metadata": {},
     "output_type": "execute_result"
    }
   ],
   "source": [
    "df.describe()"
   ]
  },
  {
   "cell_type": "code",
   "execution_count": null,
   "id": "imperial-nelson",
   "metadata": {},
   "outputs": [],
   "source": []
  }
 ],
 "metadata": {
  "kernelspec": {
   "display_name": "Python 3",
   "language": "python",
   "name": "python3"
  },
  "language_info": {
   "codemirror_mode": {
    "name": "ipython",
    "version": 3
   },
   "file_extension": ".py",
   "mimetype": "text/x-python",
   "name": "python",
   "nbconvert_exporter": "python",
   "pygments_lexer": "ipython3",
   "version": "3.8.6"
  }
 },
 "nbformat": 4,
 "nbformat_minor": 5
}
